{
 "cells": [
  {
   "attachments": {},
   "cell_type": "markdown",
   "metadata": {},
   "source": [
    "# Tarea 01 Obtención de estadistica descriptiva(Media, mediana y moda)"
   ]
  },
  {
   "attachments": {},
   "cell_type": "markdown",
   "metadata": {},
   "source": [
    "Gael González Arbesú"
   ]
  },
  {
   "attachments": {},
   "cell_type": "markdown",
   "metadata": {},
   "source": [
    "\n",
    "Brandon Kevin Saavedra Cortes"
   ]
  },
  {
   "cell_type": "code",
   "execution_count": null,
   "metadata": {},
   "outputs": [],
   "source": [
    "# Importar los datos\n",
    "import pandas as pd\n",
    "import matplotlib.pyplot as plt\n",
    "data = pd.read_csv('avocado.csv')\n",
    "\n",
    "# Calcular la media, mediana, moda y desviación estándar de la columna 'Total Volume'\n",
    "media = data['Total Volume'].mean()\n",
    "mediana = data['Total Volume'].median()\n",
    "moda = data['Total Volume'].mode().values[0]\n",
    "desviacion_estandar = data['Total Volume'].std()\n",
    "\n",
    "print(\"Media:\", media)\n",
    "print(\"Mediana:\", mediana)\n",
    "print(\"Moda:\", moda)\n",
    "print(\"Desviación Estándar:\", desviacion_estandar)\n",
    "\n",
    "# Convertir la columna 'Date' a tipo datetime para trabajar con fechas\n",
    "data['Date'] = pd.to_datetime(data['Date'])\n",
    "\n",
    "# Encontrar el día con el mayor consumo de aguacates por cada mes\n",
    "meses = data['Mes'].unique()\n",
    "for mes in meses:\n",
    "    datos_mes = data[data['Mes'] == mes]\n",
    "    dia_max_consumo = datos_mes.loc[datos_mes['Total Volume'].idxmax()]['Date']\n",
    "    print(f\"Mes {mes}: Día con mayor consumo de aguacates: {dia_max_consumo}\")"
   ]
  }
 ],
 "metadata": {
  "language_info": {
   "name": "python"
  },
  "orig_nbformat": 4
 },
 "nbformat": 4,
 "nbformat_minor": 2
}
